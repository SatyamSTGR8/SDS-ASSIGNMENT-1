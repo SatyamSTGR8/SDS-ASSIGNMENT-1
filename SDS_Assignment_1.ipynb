{
 "cells": [
  {
   "cell_type": "code",
   "execution_count": 1,
   "metadata": {
    "collapsed": false
   },
   "outputs": [
    {
     "name": "stdout",
     "output_type": "stream",
     "text": [
      "ENTER TWO DIGIT NUMBER :2\n",
      "ENTER WITHIN VALID RANGE !!\n",
      "CORRECT NUMBER IS :  90\n"
     ]
    }
   ],
   "source": [
    "import random\n",
    "num=str(random.randint(10, 99))\n",
    "n=input('ENTER TWO DIGIT NUMBER :')\n",
    "if(int(n)>9 and int(n)<100):\n",
    "    if(num == n):\n",
    "        print(\"CONGRATULATIONS on WINNING ₹ 10000!\")\n",
    "    elif(num == n[::-1]):\n",
    "        print(\"CONGRATULATIONS on WINNING ₹ 3000!\")\n",
    "    elif(num[0] == n[0] or num[0] == n[1] or  num[1] == n%10 or num[1] == n[1]):\n",
    "        print(\"CONGRATULATIONS on WINNING ₹ 1000!\")\n",
    "    else:\n",
    "        print(\"WRONG GUESS!!\")\n",
    "else:\n",
    "    print(\"ENTER WITHIN VALID RANGE !!\")\n",
    "print(\"CORRECT NUMBER IS : \",num)"
   ]
  },
  {
   "cell_type": "code",
   "execution_count": 2,
   "metadata": {
    "collapsed": false
   },
   "outputs": [
    {
     "name": "stdout",
     "output_type": "stream",
     "text": [
      "ENTER A NUMBER :4\n",
      "BINARY EQUIVALENT IS :  100\n"
     ]
    }
   ],
   "source": [
    "n=int(input(\"ENTER A NUMBER :\"))\n",
    "print(\"BINARY EQUIVALENT IS : \",bin(n).replace(\"0b\",\"\"))"
   ]
  },
  {
   "cell_type": "code",
   "execution_count": 3,
   "metadata": {
    "collapsed": false
   },
   "outputs": [
    {
     "name": "stdout",
     "output_type": "stream",
     "text": [
      "Result is  {(6, 36), (8, 64), (4, 16), (5, 25), (3, 9), (7, 49), (2, 4)}\n"
     ]
    }
   ],
   "source": [
    "List1 = [2, 3, 4, 5, 6, 7, 8]\n",
    "List2 = [4, 9, 16, 25, 36, 49, 64]\n",
    "print(\"Result is \", set(zip(List1, List2)))"
   ]
  },
  {
   "cell_type": "code",
   "execution_count": 4,
   "metadata": {
    "collapsed": false
   },
   "outputs": [
    {
     "name": "stdout",
     "output_type": "stream",
     "text": [
      "UNIQUE ITEMS : [65, 99, 41, 45, 87, 94]\n",
      "TUPLE of UNIQUE ITEMS : (65, 99, 41, 45, 87, 94)\n",
      "MAXIMUM ELEMENT of TUPLE : 99\n",
      "MINIMUM ELEMENT of TUPLE : 41\n"
     ]
    }
   ],
   "source": [
    "sampleList=[87,45,41,65,94,41,99,94]\n",
    "u_list=list(set(sampleList))\n",
    "u_tuple=tuple(u_list)\n",
    "print(\"UNIQUE ITEMS :\",u_list)\n",
    "print(\"TUPLE of UNIQUE ITEMS :\",u_tuple)\n",
    "print(\"MAXIMUM ELEMENT of TUPLE :\",max(u_tuple))\n",
    "print(\"MINIMUM ELEMENT of TUPLE :\",min(u_tuple))"
   ]
  },
  {
   "cell_type": "code",
   "execution_count": 6,
   "metadata": {
    "collapsed": false
   },
   "outputs": [
    {
     "name": "stdout",
     "output_type": "stream",
     "text": [
      "{70, 10, 20, 60}\n"
     ]
    }
   ],
   "source": [
    "set1={10,20,30,40,50}\n",
    "set2={30,40,50,60,70}\n",
    "set1.symmetric_difference_update(set2)\n",
    "print(set1)"
   ]
  },
  {
   "cell_type": "code",
   "execution_count": 7,
   "metadata": {
    "collapsed": false
   },
   "outputs": [
    {
     "name": "stdout",
     "output_type": "stream",
     "text": [
      "{40, 50}\n"
     ]
    }
   ],
   "source": [
    "set1 = {10, 20, 30, 40, 50}\n",
    "temp = {10, 20, 30}\n",
    "set1.difference_update(temp)\n",
    "print(set1)"
   ]
  },
  {
   "cell_type": "code",
   "execution_count": 8,
   "metadata": {
    "collapsed": false
   },
   "outputs": [
    {
     "name": "stdout",
     "output_type": "stream",
     "text": [
      "{40, 50, 30}\n"
     ]
    }
   ],
   "source": [
    "set1 = {10, 20, 30, 40, 50}\n",
    "set2 = {30, 40, 50, 60, 70}\n",
    "print(set1.intersection(set2))"
   ]
  },
  {
   "cell_type": "code",
   "execution_count": 9,
   "metadata": {
    "collapsed": false
   },
   "outputs": [
    {
     "name": "stdout",
     "output_type": "stream",
     "text": [
      "{'a': 3, 'b': 2, 'c': 1, 'e': 2, 'o': 1}\n"
     ]
    }
   ],
   "source": [
    "counter={}\n",
    "elements=('a','b' ,'c' , 'a', 'e', 'a' , 'b' , 'e' ,'o')\n",
    "for i in elements:\n",
    "    counter[i]=0\n",
    "for i in elements:\n",
    "    if counter[i]:\n",
    "        counter[i]=counter[i]+1\n",
    "        \n",
    "    else:\n",
    "        counter[i]=1\n",
    "print(counter)"
   ]
  },
  {
   "cell_type": "code",
   "execution_count": 11,
   "metadata": {
    "collapsed": false
   },
   "outputs": [
    {
     "name": "stdout",
     "output_type": "stream",
     "text": [
      "(11, [222, 33], 44, 55)\n"
     ]
    }
   ],
   "source": [
    "T=(11,[22,33],44,55)\n",
    "T[1][0]=222\n",
    "print(T)"
   ]
  },
  {
   "cell_type": "code",
   "execution_count": 14,
   "metadata": {
    "collapsed": false
   },
   "outputs": [
    {
     "name": "stdout",
     "output_type": "stream",
     "text": [
      "(50, 40, 30, 20, 10)\n"
     ]
    }
   ],
   "source": [
    "T=(10,20,30,40,50)\n",
    "print(tuple(reversed(T)))"
   ]
  },
  {
   "cell_type": "code",
   "execution_count": 15,
   "metadata": {
    "collapsed": false
   },
   "outputs": [
    {
     "name": "stdout",
     "output_type": "stream",
     "text": [
      "{'name': 'Arman', 'salary': 80000}\n",
      "{'name': 'Arman', 'salary': 80000, 'city': 'Ranchi'}\n",
      "{'name': 'Arman', 'salary': 80000, 'location': 'Ranchi'}\n"
     ]
    }
   ],
   "source": [
    "Dict1 = { \"name\": \"Arman\", \"age\":21, \"salary\": 80000, \"city\": \"Ranchi\", \"country\": \"India\" }\n",
    "keys= {\"name\", \"salary\"}\n",
    "\n",
    "Dict2 = {x : Dict1[x] for x in keys}\n",
    "print(Dict2)\n",
    "toRemove = { \"age\", \"country\"}\n",
    "\n",
    "for x in toRemove:\n",
    "    Dict1.pop(x)\n",
    "print(Dict1)\n",
    "\n",
    "Dict1['location'] = Dict1['city']\n",
    "del Dict1['city']\n",
    "print(Dict1)"
   ]
  },
  {
   "cell_type": "code",
   "execution_count": 16,
   "metadata": {
    "collapsed": false
   },
   "outputs": [
    {
     "name": "stdout",
     "output_type": "stream",
     "text": [
      "HWlrod\n"
     ]
    }
   ],
   "source": [
    "s1 = 'Hello'\n",
    "s2 = 'World'\n",
    "neWord = s1[0] + s2[0] + s1[len(s1)//2] + s2[len(s2)//2] + s1[-1] + s2[-1]\n",
    "print(neWord)"
   ]
  },
  {
   "cell_type": "code",
   "execution_count": 18,
   "metadata": {
    "collapsed": false
   },
   "outputs": [
    {
     "name": "stdout",
     "output_type": "stream",
     "text": [
      "ENTER A STRING :Python-is-a-programming-language\n",
      "Python \n",
      "\n",
      "is \n",
      "\n",
      "a \n",
      "\n",
      "programming \n",
      "\n",
      "language \n",
      "\n"
     ]
    }
   ],
   "source": [
    "S=input(\"ENTER A STRING :\")\n",
    "for word in S.split(\"-\"):\n",
    "    print(word,\"\\n\")"
   ]
  },
  {
   "cell_type": "code",
   "execution_count": 19,
   "metadata": {
    "collapsed": false
   },
   "outputs": [
    {
     "name": "stdout",
     "output_type": "stream",
     "text": [
      "ENTER A STRING :Hello@World#How are(! you?*&\n",
      "HelloWorldHow are you\n"
     ]
    }
   ],
   "source": [
    "S=input(\"ENTER A STRING :\")\n",
    "punctuations = \"\"'!()-[]{};:'\"\\,<>./?@#$%^&*_~'\"\n",
    "withOutSpecialCharacter=\"\"\n",
    "for char in S:\n",
    "    if char not in punctuations:\n",
    "        withOutSpecialCharacter=withOutSpecialCharacter+char\n",
    "print(withOutSpecialCharacter)"
   ]
  },
  {
   "cell_type": "code",
   "execution_count": 21,
   "metadata": {
    "collapsed": false
   },
   "outputs": [
    {
     "name": "stdout",
     "output_type": "stream",
     "text": [
      "ENTER A STRING :Mississippi\n",
      "OCCURENCE of EACH CHARACTER IS :  {'M': 1, 'i': 4, 's': 4, 'p': 2}\n"
     ]
    }
   ],
   "source": [
    "S=input(\"ENTER A STRING :\")\n",
    "counter={}\n",
    "for character in S:\n",
    "    counter[character]=counter.get(character,0)+1\n",
    "print(\"OCCURENCE of EACH CHARACTER IS : \",str(counter))"
   ]
  },
  {
   "cell_type": "code",
   "execution_count": 23,
   "metadata": {
    "collapsed": false
   },
   "outputs": [
    {
     "name": "stdout",
     "output_type": "stream",
     "text": [
      "ENTER CHOICE 1 or 2 :7\n",
      "INVALID CHOICE !!!\n"
     ]
    }
   ],
   "source": [
    "def seriesOne(a,n):\n",
    "    S=0.0\n",
    "    for i in range(1,n+1):\n",
    "        S+=(a**i)/i\n",
    "    print(S)\n",
    "def seriesTwo(n):\n",
    "    a = 1 + 2\n",
    "    b = 1 * 2\n",
    "    S = a/b\n",
    "    for i in range(3, n+1):\n",
    "        a+=i\n",
    "        b*=i\n",
    "        S+=a/b\n",
    "    print(S) \n",
    "choice=int(input(\"ENTER CHOICE 1 or 2 :\"))\n",
    "if choice==1:\n",
    "    a=int(input(\"ENTER VALUE of A :\"))\n",
    "    n=int(input(\"ENTER NUMBER of TERMS :\"))\n",
    "    seriesOne(a,n)\n",
    "elif choice==2:\n",
    "    n=int(input(\"ENTER NUMBER of TERMS :\"))\n",
    "    seriesTwo(n)\n",
    "else:\n",
    "    print(\"INVALID CHOICE !!!\")"
   ]
  },
  {
   "cell_type": "code",
   "execution_count": 24,
   "metadata": {
    "collapsed": false
   },
   "outputs": [
    {
     "name": "stdout",
     "output_type": "stream",
     "text": [
      "The blue bag has 10 blue pens\n"
     ]
    }
   ],
   "source": [
    "S=\"The red bag has 10 red pens\"\n",
    "print(S.replace(\"red\",\"blue\"))"
   ]
  },
  {
   "cell_type": "code",
   "execution_count": 25,
   "metadata": {
    "collapsed": false
   },
   "outputs": [
    {
     "name": "stdout",
     "output_type": "stream",
     "text": [
      "ENTER A NUMBER :0\n",
      "NUMBER of DIGITS in the NUMBER : 1\n"
     ]
    }
   ],
   "source": [
    "def counter(n:int) -> int :\n",
    "    if n/10==0:\n",
    "        return 1\n",
    "    return 1+counter(n//10)\n",
    "n=int(input(\"ENTER A NUMBER :\"))\n",
    "print(\"NUMBER of DIGITS in the NUMBER :\",counter(n))"
   ]
  },
  {
   "cell_type": "code",
   "execution_count": 26,
   "metadata": {
    "collapsed": true
   },
   "outputs": [],
   "source": [
    "def exponent(base:int , exp:int) -> int :\n",
    "    return base**exp"
   ]
  },
  {
   "cell_type": "code",
   "execution_count": 28,
   "metadata": {
    "collapsed": false
   },
   "outputs": [
    {
     "name": "stdout",
     "output_type": "stream",
     "text": [
      "[1, 3, 4, 6]\n"
     ]
    }
   ],
   "source": [
    "listOne=[1,2,3,4]\n",
    "listTwo=[4,5,6,7]\n",
    "newList=[]\n",
    "for element in listOne:\n",
    "    if element %2 ==1:\n",
    "        newList.append(element)\n",
    "for element in listTwo:\n",
    "    if element %2 ==0:\n",
    "        newList.append(element)\n",
    "print(newList)"
   ]
  },
  {
   "cell_type": "code",
   "execution_count": 29,
   "metadata": {
    "collapsed": false
   },
   "outputs": [
    {
     "name": "stdout",
     "output_type": "stream",
     "text": [
      "ENTER 4 DIGIT NUMBER :1221\n",
      "PALINDROME !\n"
     ]
    }
   ],
   "source": [
    "n=int(input(\"ENTER 4 DIGIT NUMBER :\"))\n",
    "rev=0\n",
    "temp=n\n",
    "for i in range (0,4):\n",
    "    d=temp%10\n",
    "    rev=rev*10+d\n",
    "    temp=temp//10\n",
    "if rev==n:\n",
    "    print('PALINDROME !')\n",
    "else:\n",
    "    print('NOT PALINDROME !')"
   ]
  },
  {
   "cell_type": "code",
   "execution_count": 32,
   "metadata": {
    "collapsed": false
   },
   "outputs": [
    {
     "name": "stdout",
     "output_type": "stream",
     "text": [
      "1\n",
      "12\n",
      "123\n",
      "1234\n",
      "12345\n"
     ]
    }
   ],
   "source": [
    "for i in range(1,6):\n",
    "    for j in range(1,i+1):\n",
    "        print(j,end=\"\")\n",
    "    print()"
   ]
  },
  {
   "cell_type": "code",
   "execution_count": 33,
   "metadata": {
    "collapsed": false
   },
   "outputs": [
    {
     "name": "stdout",
     "output_type": "stream",
     "text": [
      "[13, 15, 35, 47, 68, 89]\n"
     ]
    }
   ],
   "source": [
    "List1=[15,47,68,89,35,13]\n",
    "for i in range(len(List1)):\n",
    "    for j in range(i + 1, len(List1)):\n",
    "        if(List1[i] > List1[j]):\n",
    "            List1[i],List1[j] = List1[j],List1[i]\n",
    "print(List1)"
   ]
  },
  {
   "cell_type": "code",
   "execution_count": 38,
   "metadata": {
    "collapsed": false
   },
   "outputs": [
    {
     "name": "stdout",
     "output_type": "stream",
     "text": [
      "0\n",
      "1\n",
      "2\n",
      "3\n",
      "4\n",
      "5\n",
      "6\n",
      "7\n",
      "8\n",
      "9\n",
      "SUM = 25\n"
     ]
    }
   ],
   "source": [
    "lst=[]\n",
    "for i in range(0,10):\n",
    "    element=int(input())\n",
    "    lst.append(element)\n",
    "S=0\n",
    "for i in range(1, 10, 2):\n",
    "    S+= lst[i]\n",
    "print(\"SUM =\",S)"
   ]
  },
  {
   "cell_type": "code",
   "execution_count": 41,
   "metadata": {
    "collapsed": false
   },
   "outputs": [
    {
     "name": "stdout",
     "output_type": "stream",
     "text": [
      "ENTER STRING :THANK YOU\n",
      "T A K Y U "
     ]
    }
   ],
   "source": [
    "S= input(\"ENTER STRING :\")\n",
    "for i in range(0, len(S), 2):\n",
    "    print(S[i],end=\" \")"
   ]
  }
 ],
 "metadata": {
  "kernelspec": {
   "display_name": "Python 3",
   "language": "python",
   "name": "python3"
  },
  "language_info": {
   "codemirror_mode": {
    "name": "ipython",
    "version": 3
   },
   "file_extension": ".py",
   "mimetype": "text/x-python",
   "name": "python",
   "nbconvert_exporter": "python",
   "pygments_lexer": "ipython3",
   "version": "3.6.0"
  }
 },
 "nbformat": 4,
 "nbformat_minor": 2
}
